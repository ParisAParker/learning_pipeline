{
 "cells": [
  {
   "cell_type": "code",
   "execution_count": 45,
   "id": "2a4b863a",
   "metadata": {},
   "outputs": [],
   "source": [
    "import pandas as pd\n",
    "import json\n",
    "from pathlib import Path\n",
    "from reportlab.platypus import SimpleDocTemplate, Paragraph, Spacer, PageBreak\n",
    "from reportlab.lib.styles import getSampleStyleSheet"
   ]
  },
  {
   "cell_type": "code",
   "execution_count": 19,
   "id": "c34bafb3",
   "metadata": {},
   "outputs": [],
   "source": [
    "QUIZ_DIR = Path.cwd().parent / 'outputs/quizzes'"
   ]
  },
  {
   "cell_type": "code",
   "execution_count": 14,
   "id": "aeeaf2b7",
   "metadata": {},
   "outputs": [],
   "source": [
    "video_id = \"teCubd25XwI\""
   ]
  },
  {
   "cell_type": "code",
   "execution_count": 15,
   "id": "cc18a2f0",
   "metadata": {},
   "outputs": [],
   "source": [
    "with open(Path.cwd().parent / f'raw_openai/{video_id}.json', 'r') as file:\n",
    "    raw_quiz = json.load(file)"
   ]
  },
  {
   "cell_type": "code",
   "execution_count": null,
   "id": "a7443074",
   "metadata": {},
   "outputs": [],
   "source": [
    "def export_csv(data, filename=\"flashcards.csv\"):\n",
    "    df = pd.DataFrame([{\"Front\": d[\"question\"], \"Back\": d[\"answer\"]} for d in data])\n",
    "    df.to_csv(filename, index=False, encoding=\"utf-8\")\n",
    "    return df\n",
    "\n",
    "def export_pdf(data, video_id, output_dir=QUIZ_DIR):\n",
    "    \"\"\"\n",
    "    Export quiz data to a PDF file.\n",
    "\n",
    "    Args:\n",
    "        data (str | list): Either a JSON string or a list of dicts \n",
    "                           with keys 'question', 'answer', 'explanation'.\n",
    "        video_id (str): YouTube video ID (used as filename).\n",
    "        output_dir (Path | str): Directory where the PDF will be saved.\n",
    "\n",
    "    Returns:\n",
    "        Path: Path to the saved PDF file.\n",
    "    \"\"\"\n",
    "    # Convert JSON string to Python list if needed\n",
    "    if isinstance(data, str):\n",
    "        try:\n",
    "            data = json.loads(data)\n",
    "        except json.JSONDecodeError:\n",
    "            raise ValueError(\"Provided data is a string but not valid JSON\")\n",
    "\n",
    "    # Make sure output directory exists\n",
    "    output_dir = Path(output_dir)\n",
    "    output_dir.mkdir(parents=True, exist_ok=True)\n",
    "\n",
    "    # Construct full path with .pdf extension\n",
    "    file_path = output_dir / f\"{video_id}.pdf\"\n",
    "\n",
    "    # Build PDF\n",
    "    doc = SimpleDocTemplate(str(file_path))\n",
    "    styles = getSampleStyleSheet()\n",
    "    flowables = []\n",
    "\n",
    "    flowables.append(Paragraph(\"Open-Ended Quiz\", styles[\"Title\"]))\n",
    "    flowables.append(Spacer(1, 20))\n",
    "\n",
    "    for i, d in enumerate(data, 1):\n",
    "        flowables.append(Paragraph(f\"Q{i}: {d['question']}\", styles[\"Normal\"]))\n",
    "        flowables.append(Paragraph(f\"Answer: {d['answer']}\", styles[\"Italic\"]))\n",
    "        flowables.append(Paragraph(f\"Explanation: {d['explanation']}\", styles[\"Normal\"]))\n",
    "        flowables.append(Spacer(1, 12))\n",
    "\n",
    "    doc.build(flowables)\n",
    "    return file_path\n",
    "\n"
   ]
  },
  {
   "cell_type": "code",
   "execution_count": 53,
   "id": "9c89ecdd",
   "metadata": {},
   "outputs": [],
   "source": [
    "def export_pdf(data, video_id, output_dir=QUIZ_DIR):\n",
    "    \"\"\"\n",
    "    Export a quiz PDF with:\n",
    "    - Section 1: Questions only (spaced out)\n",
    "    - Section 2: Questions + Answers + Explanations\n",
    "\n",
    "    Args:\n",
    "        data (str | list): JSON string (raw OpenAI output) or parsed list of dicts\n",
    "        video_id (str): YouTube video ID, used for filename\n",
    "        output_dir (Path | str): Directory where PDF will be saved\n",
    "    \"\"\"\n",
    "    # If data is a string, extract JSON array\n",
    "    if isinstance(data, str):\n",
    "        match = re.search(r\"\\[.*\\]\", data, re.DOTALL)\n",
    "        if not match:\n",
    "            raise ValueError(\"Could not find valid JSON array in string\")\n",
    "        data = json.loads(match.group(0))\n",
    "\n",
    "    # Ensure it's a list of dicts\n",
    "    if not isinstance(data, list) or not isinstance(data[0], dict):\n",
    "        raise TypeError(\"Data must be a list of dicts with 'question', 'answer', 'explanation'\")\n",
    "\n",
    "    # Ensure output directory exists\n",
    "    output_dir = Path(output_dir)\n",
    "    output_dir.mkdir(parents=True, exist_ok=True)\n",
    "    file_path = output_dir / f\"{video_id}.pdf\"\n",
    "\n",
    "    # Build PDF\n",
    "    doc = SimpleDocTemplate(str(file_path))\n",
    "    styles = getSampleStyleSheet()\n",
    "    flowables = []\n",
    "\n",
    "    # -----------------------------\n",
    "    # Section 1: Student Version\n",
    "    # -----------------------------\n",
    "    flowables.append(Paragraph(\"Open-Ended Quiz (Student Version)\", styles[\"Title\"]))\n",
    "    flowables.append(Spacer(1, 20))\n",
    "\n",
    "    for i, d in enumerate(data, 1):\n",
    "        flowables.append(Paragraph(f\"{i}. {d['question']}\", styles[\"Normal\"]))\n",
    "        flowables.append(Spacer(1, 84))  # add extra blank space for writing\n",
    "\n",
    "    flowables.append(PageBreak())\n",
    "\n",
    "    # -----------------------------\n",
    "    # Section 2: Teacher Version\n",
    "    # -----------------------------\n",
    "    flowables.append(Paragraph(\"Open-Ended Quiz (Teacher Version)\", styles[\"Title\"]))\n",
    "    flowables.append(Spacer(1, 20))\n",
    "\n",
    "    for i, d in enumerate(data, 1):\n",
    "        flowables.append(Paragraph(f\"{i}. {d['question']}\", styles[\"Normal\"]))\n",
    "        flowables.append(Paragraph(f\"Answer: {d['answer']}\", styles[\"Italic\"]))\n",
    "        flowables.append(Paragraph(f\"Explanation: {d['explanation']}\", styles[\"Normal\"]))\n",
    "        flowables.append(Spacer(1, 12))\n",
    "\n",
    "    doc.build(flowables)\n",
    "    return file_path"
   ]
  },
  {
   "cell_type": "code",
   "execution_count": 37,
   "id": "28e05a08",
   "metadata": {},
   "outputs": [],
   "source": [
    "def clean_raw_quiz_data(raw_quiz):\n",
    "    output = raw_quiz['choices'][0]['message']['content']\n",
    "\n",
    "    if \"```json\" in output:\n",
    "        json_output = output.split(\"```json\")[1].split(\"```\")[0].strip()\n",
    "\n",
    "    else:\n",
    "        raise ValueError(\"JSON block not found\")\n",
    "\n",
    "    data = json.loads(json_output)\n",
    "\n",
    "    return data"
   ]
  },
  {
   "cell_type": "code",
   "execution_count": 39,
   "id": "ea1d9310",
   "metadata": {},
   "outputs": [],
   "source": [
    "data = clean_raw_quiz_data(raw_quiz)"
   ]
  },
  {
   "cell_type": "code",
   "execution_count": 54,
   "id": "eeee3700",
   "metadata": {},
   "outputs": [
    {
     "data": {
      "text/plain": [
       "WindowsPath('c:/Users/kidsa/Documents/learning_pipeline/outputs/quizzes/teCubd25XwI.pdf')"
      ]
     },
     "execution_count": 54,
     "metadata": {},
     "output_type": "execute_result"
    }
   ],
   "source": [
    "export_pdf(data, video_id)"
   ]
  }
 ],
 "metadata": {
  "kernelspec": {
   "display_name": "venv",
   "language": "python",
   "name": "python3"
  },
  "language_info": {
   "codemirror_mode": {
    "name": "ipython",
    "version": 3
   },
   "file_extension": ".py",
   "mimetype": "text/x-python",
   "name": "python",
   "nbconvert_exporter": "python",
   "pygments_lexer": "ipython3",
   "version": "3.10.10"
  }
 },
 "nbformat": 4,
 "nbformat_minor": 5
}
