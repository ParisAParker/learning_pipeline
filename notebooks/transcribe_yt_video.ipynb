{
 "cells": [
  {
   "cell_type": "code",
   "execution_count": null,
   "id": "89b079d8",
   "metadata": {},
   "outputs": [],
   "source": [
    "from youtube_transcript_api import YouTubeTranscriptApi\n",
    "\n",
    "video_id = \"teCubd25XwI\"\n",
    "\n",
    "# Fetch transcript (auto-generated or manual) in default or preferred language(s)\n",
    "fetched = YouTubeTranscriptApi().fetch(video_id)\n",
    "\n",
    "raw = fetched.to_raw_data()\n",
    "\n",
    "# Write to text file\n",
    "with open(\"transcript.txt\", \"w\", encoding=\"utf-8\") as f:\n",
    "    for entry in raw:\n",
    "        f.write(entry['text'] + \"\\n\")"
   ]
  },
  {
   "cell_type": "code",
   "execution_count": 24,
   "id": "97eeab91",
   "metadata": {},
   "outputs": [],
   "source": [
    "from pathlib import Path"
   ]
  },
  {
   "cell_type": "code",
   "execution_count": 33,
   "id": "c5216dba",
   "metadata": {},
   "outputs": [],
   "source": [
    "dir_paths = ['transcripts', 'outputs/quizzes', 'outputs/flashcards']"
   ]
  },
  {
   "cell_type": "code",
   "execution_count": 41,
   "id": "ac3949d9",
   "metadata": {},
   "outputs": [
    {
     "name": "stdout",
     "output_type": "stream",
     "text": [
      "Created directory c:\\Users\\kidsa\\Documents\\learning_pipeline\\transcripts\n",
      "Created directory c:\\Users\\kidsa\\Documents\\learning_pipeline\\outputs\\quizzes\n",
      "Created directory c:\\Users\\kidsa\\Documents\\learning_pipeline\\outputs\\flashcards\n"
     ]
    }
   ],
   "source": [
    "for path_str in dir_paths:\n",
    "    path = Path.cwd()/ path_str\n",
    "    if not path.exists():\n",
    "        path.mkdir(parents=True, exist_ok=True)\n",
    "        print(\"Created directory\", path)"
   ]
  },
  {
   "cell_type": "code",
   "execution_count": 1,
   "id": "c691fffa",
   "metadata": {},
   "outputs": [],
   "source": [
    "from urllib.parse import urlparse, parse_qs"
   ]
  },
  {
   "cell_type": "code",
   "execution_count": null,
   "id": "abd3db18",
   "metadata": {},
   "outputs": [],
   "source": [
    "def extract_video_id(url):\n",
    "    \"\"\"\n",
    "    Extracts the YouTube video ID from a given YouTube URL.\n",
    "\n",
    "    Supports the following URL formats:\n",
    "        - youtu.be/<id>\n",
    "        - youtube.com/watch?v=<id>\n",
    "        - youtube.com/embed/<id>\n",
    "\n",
    "    Args:\n",
    "        url (str): The full YouTube video URL.\n",
    "\n",
    "    Returns:\n",
    "        str or None: The extracted video ID if found, otherwise None.\n",
    "    \"\"\"\n",
    "    parsed_url = urlparse(url)\n",
    "    \n",
    "    # Case 1: youtu.be/<id>\n",
    "    if parsed_url.hostname in [\"youtu.be\"]:\n",
    "        return parsed_url.path[1:]\n",
    "    \n",
    "    # Case 2: youtube.com/watch?v=<id>\n",
    "    if parsed_url.path == \"/watch\":\n",
    "        return parse_qs(parsed_url.query).get(\"v\", [None])[0]\n",
    "    \n",
    "    # Case 3: youtube.com/embed/<id>\n",
    "    if parsed_url.path.startswith(\"/embed/\"):\n",
    "        return parsed_url.path.split(\"/\")[2]\n",
    "    \n",
    "    return None"
   ]
  }
 ],
 "metadata": {
  "kernelspec": {
   "display_name": "venv",
   "language": "python",
   "name": "python3"
  },
  "language_info": {
   "codemirror_mode": {
    "name": "ipython",
    "version": 3
   },
   "file_extension": ".py",
   "mimetype": "text/x-python",
   "name": "python",
   "nbconvert_exporter": "python",
   "pygments_lexer": "ipython3",
   "version": "3.10.10"
  }
 },
 "nbformat": 4,
 "nbformat_minor": 5
}
