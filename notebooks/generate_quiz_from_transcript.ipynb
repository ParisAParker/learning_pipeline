{
 "cells": [
  {
   "cell_type": "code",
   "execution_count": null,
   "id": "f1c0cb23",
   "metadata": {},
   "outputs": [],
   "source": [
    "import os\n",
    "import json\n",
    "from openai import OpenAI\n",
    "from dotenv import load_dotenv\n",
    "from pathlib import Path"
   ]
  },
  {
   "cell_type": "code",
   "execution_count": 2,
   "id": "087a4a6b",
   "metadata": {},
   "outputs": [
    {
     "data": {
      "text/plain": [
       "True"
      ]
     },
     "execution_count": 2,
     "metadata": {},
     "output_type": "execute_result"
    }
   ],
   "source": [
    "load_dotenv()"
   ]
  },
  {
   "cell_type": "code",
   "execution_count": null,
   "id": "1a2ba10f",
   "metadata": {},
   "outputs": [],
   "source": [
    "api_key = os.getenv(\"OPENAI_API_KEY\")\n",
    "transcript_path = Path.cwd().parent / 'transcripts/teCubd25XwI.txt'"
   ]
  },
  {
   "cell_type": "code",
   "execution_count": 5,
   "id": "02ff66dd",
   "metadata": {},
   "outputs": [],
   "source": [
    "transcript_text = open(transcript_path).read()"
   ]
  },
  {
   "cell_type": "code",
   "execution_count": 7,
   "id": "c969c547",
   "metadata": {},
   "outputs": [],
   "source": [
    "prompt = f\"\"\"\n",
    "You are an expert quiz generator.\n",
    "\n",
    "I will give you a transcript. Based ONLY on that transcript:\n",
    "\n",
    "1. Generate 20 well-written **open-ended questions**.  \n",
    "   - Each question should test reasoning, application, or connections across ideas, not just recall.  \n",
    "   - Provide a strong sample answer with a short explanation of why it is correct.  \n",
    "\n",
    "2. Return your output in **JSON** with the following structure:\n",
    "[\n",
    "  {{\n",
    "    \"question\": \"string\",\n",
    "    \"answer\": \"string\",\n",
    "    \"explanation\": \"string\"\n",
    "  }},\n",
    "  ...\n",
    "]\n",
    "\n",
    "Here is the transcript:\n",
    "---\n",
    "{transcript_text}\n",
    "\"\"\""
   ]
  },
  {
   "cell_type": "code",
   "execution_count": 9,
   "id": "1347a378",
   "metadata": {},
   "outputs": [],
   "source": [
    "client = OpenAI(api_key=api_key)"
   ]
  },
  {
   "cell_type": "code",
   "execution_count": null,
   "id": "41c5a629",
   "metadata": {},
   "outputs": [],
   "source": [
    "response = client.chat.completions.create(\n",
    "    model=\"gpt-4o\",   # or \"gpt-4.1\" for higher quality, \"gpt-3.5-turbo\" for cheaper\n",
    "    messages=[\n",
    "        {\"role\": \"system\", \"content\": \"You are a helpful assistant.\"},\n",
    "        {\"role\": \"user\", \"content\": prompt}\n",
    "    ],\n",
    "    temperature=0.7  # controls creativity\n",
    ")\n",
    "\n",
    "output = response.choices[0].message.content"
   ]
  },
  {
   "cell_type": "code",
   "execution_count": null,
   "id": "07f8ddc5",
   "metadata": {},
   "outputs": [],
   "source": [
    "if \"```json\" in output:\n",
    "    json_output = output.split(\"```json\")[1].split(\"```\")[0].strip()\n",
    "\n",
    "else:\n",
    "    raise ValueError(\"JSON block not found\")\n",
    "\n",
    "data = json.loads(json_output)"
   ]
  },
  {
   "cell_type": "code",
   "execution_count": null,
   "id": "cef2b3ea",
   "metadata": {},
   "outputs": [
    {
     "data": {
      "text/plain": [
       "ChatCompletion(id='chatcmpl-CJJYhsnbZmh5VSsWTi2O6Sbdwpw6l', choices=[Choice(finish_reason='stop', index=0, logprobs=None, message=ChatCompletionMessage(content='Here is a set of questions based on the provided transcript, formatted in JSON:\\n\\n```json\\n[\\n  {\\n    \"question\": \"How does the speaker suggest one can become irreplaceable in the tech industry?\",\\n    \"answer\": \"The speaker suggests becoming irreplaceable by focusing on skills that AI cannot easily replicate, such as understanding human context, making intuitive design decisions, and architecting solutions to real-world problems. These skills are not typically taught in traditional learning paths and require more than just following instructions.\",\\n    \"explanation\": \"The speaker emphasizes that the goal is not just to learn coding, but to develop unique skills that differentiate a person from AI capabilities. This involves understanding the broader context and solving complex problems that require human insight.\"\\n  },\\n  {\\n    \"question\": \"What is the main flaw in the approach of building generic projects like weather apps or to-do lists?\",\\n    \"answer\": \"The main flaw is that these projects do not demonstrate problem-solving skills or unique capabilities. They show that the individual can follow instructions, which AI can do more efficiently. Instead, one should focus on solving unique problems that they care about, demonstrating both technical skills and domain knowledge.\",\\n    \"explanation\": \"The speaker criticizes generic projects for not standing out to hiring managers. The emphasis is on creating projects that reflect personal interests and solve real problems, which can better showcase one\\'s skills and understanding.\"\\n  },\\n  {\\n    \"question\": \"Why does the speaker compare learning to code with learning to swim?\",\\n    \"answer\": \"The speaker compares learning to code with learning to swim to illustrate that theoretical knowledge alone is insufficient. Just as one must get into the water to truly learn to swim, one must start building projects to truly learn coding and problem-solving, rather than just studying concepts in isolation.\",\\n    \"explanation\": \"This analogy highlights the importance of hands-on practice and the limitations of purely theoretical learning. Direct experience allows for practical learning and skill development.\"\\n  },\\n  {\\n    \"question\": \"What are the four AI-proof skills that the speaker recommends developing?\",\\n    \"answer\": \"The speaker recommends developing the following four AI-proof skills: 1) Architectural thinking, which involves designing systems and making decisions about data structures and APIs; 2) Debugging mastery, which is about solving unexpected problems; 3) Communication skills, to explain technical concepts clearly; and 4) Business context, understanding how features create value for users and align with business objectives.\",\\n    \"explanation\": \"These skills are highlighted because they are areas where human capabilities currently exceed those of AI, making them crucial for standing out in the tech industry.\"\\n  },\\n  {\\n    \"question\": \"How does the speaker propose overcoming \\'analysis paralysis\\' in the journey to break into tech?\",\\n    \"answer\": \"The speaker proposes overcoming \\'analysis paralysis\\' by taking immediate action, building projects based on personal interests, and seeking proper guidance early on. Instead of overthinking the process, one should start building and learning through experience.\",\\n    \"explanation\": \"The speaker stresses the importance of action over prolonged contemplation, arguing that real learning and progress come from doing, not just thinking.\"\\n  },\\n  {\\n    \"question\": \"Why does the speaker emphasize the need for mentorship in breaking into tech?\",\\n    \"answer\": \"The speaker emphasizes mentorship as it provides support, accountability, and structured guidance that can significantly expedite the learning process and help avoid common pitfalls. Mentorship can transform self-doubt into confidence and provide a clearer path to success.\",\\n    \"explanation\": \"Mentorship is portrayed as a critical factor in bridging the gap between potential and achievement, offering personalized insights and encouragement.\"\\n  },\\n  {\\n    \"question\": \"What is the role of \\'specialization\\' according to the speaker, and why is it important?\",\\n    \"answer\": \"According to the speaker, specialization is crucial because it allows individuals to differentiate themselves in a competitive market. Specialists with deep knowledge in specific areas are more valuable than generalists with surface-level knowledge, especially in a field flooded with people trying to break in.\",\\n    \"explanation\": \"Specialization helps individuals stand out by offering unique expertise that is less likely to be replaced by AI or overwhelmed by the number of generalists.\"\\n  },\\n  {\\n    \"question\": \"How does sharing your learning journey publicly benefit your career in tech?\",\\n    \"answer\": \"Sharing your learning journey publicly helps build your reputation and network before you need a job. It demonstrates your commitment, progress, and problem-solving skills to potential employers and peers, creating opportunities and connections that can be valuable in your job search.\",\\n    \"explanation\": \"Publicly documenting your journey showcases transparency and dedication, attracting attention and support from the tech community, which can lead to job offers and collaborations.\"\\n  },\\n  {\\n    \"question\": \"What does the speaker mean by \\'the cost of delay in tech isn\\'t just time, it\\'s opportunity\\'?\",\\n    \"answer\": \"The speaker means that delaying action in the tech industry not only wastes time but also results in missed opportunities for career advancement, financial growth, and staying relevant in a rapidly evolving field. The longer the delay, the more one falls behind in the industry.\",\\n    \"explanation\": \"This highlights the urgency of taking action and the potential negative impact of procrastination on one\\'s career trajectory and opportunities.\"\\n  },\\n  {\\n    \"question\": \"What is the significance of \\'business context\\' in developing AI-proof skills?\",\\n    \"answer\": \"Understanding business context is significant because it transforms a developer from a mere coder to a problem solver who creates value. By aligning technical work with business objectives, developers can demonstrate how their contributions support the company\\'s goals, making them more indispensable.\",\\n    \"explanation\": \"Business context is crucial for demonstrating the real-world impact of technical work, enhancing the perceived value of a developer\\'s contributions.\"\\n  },\\n  {\\n    \"question\": \"Why does the speaker consider \\'hesitation\\' as equivalent to moving backward in the tech industry?\",\\n    \"answer\": \"The speaker considers hesitation as moving backward because the fast-paced nature of the tech industry means it is continuously evolving. Delaying action or decision-making results in losing ground to others who are advancing and adapting to changes.\",\\n    \"explanation\": \"Hesitation leads to missed opportunities and falling behind, as the industry does not wait for individuals to catch up. Proactive engagement is necessary to keep pace.\"\\n  },\\n  {\\n    \"question\": \"How can one demonstrate problem-solving skills in a tech portfolio according to the speaker?\",\\n    \"answer\": \"One can demonstrate problem-solving skills in a tech portfolio by building projects that address specific, personal problems or challenges rather than generic applications. These projects should showcase technical skills and domain knowledge, reflecting the individual\\'s ability to tackle unique problems.\",\\n    \"explanation\": \"Problem-solving is best demonstrated through projects that go beyond basic requirements, illustrating creativity and deep understanding of the issues being addressed.\"\\n  },\\n  {\\n    \"question\": \"What is the speaker\\'s view on the traditional learning paths like coding boot camps, and why?\",\\n    \"answer\": \"The speaker views traditional learning paths like coding boot camps as limited because they often focus on skills that AI can replicate, such as writing basic code. The speaker suggests that these paths do not adequately prepare individuals for the demands of the tech industry, which requires more complex problem-solving and human-centric skills.\",\\n    \"explanation\": \"Boot camps are criticized for not equipping learners with the deeper, irreplaceable skills needed to stand out in an AI-driven job market.\"\\n  },\\n  {\\n    \"question\": \"How does the speaker define the \\'no BS road map\\' to breaking into tech?\",\\n    \"answer\": \"The \\'no BS road map\\' involves abandoning generic projects, embracing immediate and messy learning through building, developing AI-proof skills, specializing rather than generalizing, and starting to build one\\'s reputation early. This approach focuses on practical, real-world skills and proactive engagement.\",\\n    \"explanation\": \"The road map emphasizes actionable steps and a shift from theoretical to practical learning, aiming to develop skills that are in demand and less susceptible to replacement by AI.\"\\n  },\\n  {\\n    \"question\": \"What does the speaker identify as the common excuses that prevent people from advancing in tech?\",\\n    \"answer\": \"Common excuses include the need to think about it more, waiting for the perfect time, fear of failure, and the belief that they need more preparation before starting. These excuses delay action and progress, keeping individuals stuck in their current situation.\",\\n    \"explanation\": \"These excuses are portrayed as barriers to taking action, often rooted in fear or uncertainty, which can be overcome by starting and seeking guidance.\"\\n  },\\n  {\\n    \"question\": \"How did Gabe\\'s approach differ from others, and what were the results?\",\\n    \"answer\": \"Gabe\\'s approach differed by focusing on building projects related to his personal experiences and problems in his insurance job rather than generic projects. This led to multiple job offers and a position at American Express, demonstrating the effectiveness of addressing specific, unique problems.\",\\n    \"explanation\": \"Gabe\\'s success illustrates the value of creating projects that reflect personal insights and problem-solving abilities, resulting in tangible career advancements.\"\\n  },\\n  {\\n    \"question\": \"Why does the speaker stress the importance of starting to build your reputation before you need a job?\",\\n    \"answer\": \"Starting to build your reputation early allows one to establish a network, gain visibility, and demonstrate expertise before actively job hunting. This proactive approach can lead to opportunities and support from the community, making the job search easier and more successful.\",\\n    \"explanation\": \"Building a reputation early facilitates connections and credibility, providing a strong foundation for future job searches and career growth.\"\\n  },\\n  {\\n    \"question\": \"What does the speaker mean by \\'the best time to start was yesterday\\'?\",\\n    \"answer\": \"This phrase means that the sooner one begins taking action towards their goals, the better. Delaying action results in lost time and opportunities, so immediate action is always preferable.\",\\n    \"explanation\": \"The speaker is emphasizing urgency, encouraging individuals to start now to maximize their chances of success and minimize the impact of delays.\"\\n  },\\n  {\\n    \"question\": \"How does the speaker propose handling the fear of failure in the tech journey?\",\\n    \"answer\": \"The speaker proposes handling the fear of failure by seeking mentorship and support, which provides guidance and reassurance. Taking action despite fear and learning from mistakes can also help overcome this fear.\",\\n    \"explanation\": \"Mentorship offers a safety net and encouragement, helping individuals navigate challenges and build confidence despite initial fears.\"\\n  },\\n  {\\n    \"question\": \"What is the speaker\\'s stance on the role of AI in the future of tech jobs, and how should one prepare?\",\\n    \"answer\": \"The speaker acknowledges that AI will continue to replace basic coding tasks, so individuals should prepare by developing skills that AI cannot easily replicate, such as problem-solving, architectural thinking, and understanding business context. This preparation involves becoming irreplaceable by focusing on unique human capabilities.\",\\n    \"explanation\": \"The stance is that AI will significantly impact tech jobs, but by developing irreplaceable skills, individuals can secure their place in the industry.\"\\n  }\\n]\\n```\\n\\nThese questions are designed to encourage critical thinking and application of the ideas presented in the transcript, focusing on the speaker\\'s advice for successfully entering and advancing in the tech industry.', refusal=None, role='assistant', annotations=[], audio=None, function_call=None, tool_calls=None))], created=1758719451, model='gpt-4o-2024-08-06', object='chat.completion', service_tier='default', system_fingerprint='fp_cbf1785567', usage=CompletionUsage(completion_tokens=2323, prompt_tokens=2736, total_tokens=5059, completion_tokens_details=CompletionTokensDetails(accepted_prediction_tokens=0, audio_tokens=0, reasoning_tokens=0, rejected_prediction_tokens=0), prompt_tokens_details=PromptTokensDetails(audio_tokens=0, cached_tokens=0)))"
      ]
     },
     "execution_count": 87,
     "metadata": {},
     "output_type": "execute_result"
    }
   ],
   "source": []
  },
  {
   "cell_type": "code",
   "execution_count": 89,
   "id": "92e1a4d3",
   "metadata": {},
   "outputs": [],
   "source": [
    "video_id = 'test'"
   ]
  },
  {
   "cell_type": "code",
   "execution_count": 90,
   "id": "06bfe3e4",
   "metadata": {},
   "outputs": [],
   "source": [
    "response_dict = response.to_dict()"
   ]
  },
  {
   "cell_type": "code",
   "execution_count": 92,
   "id": "49b54f2e",
   "metadata": {},
   "outputs": [],
   "source": [
    "response_dict['video_id'] = video_id"
   ]
  },
  {
   "cell_type": "code",
   "execution_count": 95,
   "id": "c47c2b08",
   "metadata": {},
   "outputs": [],
   "source": [
    "RAW_OPEN_AI_DIR = Path.cwd().parent /'raw_openai'"
   ]
  },
  {
   "cell_type": "code",
   "execution_count": 98,
   "id": "a28805ea",
   "metadata": {},
   "outputs": [],
   "source": [
    "with open(RAW_OPEN_AI_DIR / f'{video_id}', 'w') as file:\n",
    "    json.dump(response_dict, file)"
   ]
  },
  {
   "cell_type": "code",
   "execution_count": 18,
   "id": "ce159b46",
   "metadata": {},
   "outputs": [
    {
     "name": "stdout",
     "output_type": "stream",
     "text": [
      "Prompt tokens: 2736\n",
      "Completion tokens: 2323\n",
      "Total tokens: 5059\n"
     ]
    }
   ],
   "source": [
    "usage = response.usage\n",
    "print(\"Prompt tokens:\", usage.prompt_tokens)\n",
    "print(\"Completion tokens:\", usage.completion_tokens)\n",
    "print(\"Total tokens:\", usage.total_tokens)"
   ]
  },
  {
   "cell_type": "code",
   "execution_count": 19,
   "id": "3ae5512b",
   "metadata": {},
   "outputs": [
    {
     "name": "stdout",
     "output_type": "stream",
     "text": [
      "Cost: $0.0301\n"
     ]
    }
   ],
   "source": [
    "input_cost = usage.prompt_tokens / 1000 * 0.0025\n",
    "output_cost = usage.completion_tokens / 1000 * 0.01\n",
    "total_cost = input_cost + output_cost\n",
    "\n",
    "print(f\"Cost: ${total_cost:.4f}\")"
   ]
  },
  {
   "cell_type": "code",
   "execution_count": 106,
   "id": "2c018cad",
   "metadata": {},
   "outputs": [
    {
     "data": {
      "text/plain": [
       "pathlib.WindowsPath"
      ]
     },
     "execution_count": 106,
     "metadata": {},
     "output_type": "execute_result"
    }
   ],
   "source": [
    "type(Path.cwd())"
   ]
  }
 ],
 "metadata": {
  "kernelspec": {
   "display_name": "venv",
   "language": "python",
   "name": "python3"
  },
  "language_info": {
   "codemirror_mode": {
    "name": "ipython",
    "version": 3
   },
   "file_extension": ".py",
   "mimetype": "text/x-python",
   "name": "python",
   "nbconvert_exporter": "python",
   "pygments_lexer": "ipython3",
   "version": "3.10.10"
  }
 },
 "nbformat": 4,
 "nbformat_minor": 5
}
